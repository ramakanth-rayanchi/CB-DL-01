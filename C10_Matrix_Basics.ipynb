{
  "nbformat": 4,
  "nbformat_minor": 0,
  "metadata": {
    "colab": {
      "provenance": [],
      "authorship_tag": "ABX9TyOB+bW67agQFMCvFf1WVXUT",
      "include_colab_link": true
    },
    "kernelspec": {
      "name": "python3",
      "display_name": "Python 3"
    },
    "language_info": {
      "name": "python"
    }
  },
  "cells": [
    {
      "cell_type": "markdown",
      "metadata": {
        "id": "view-in-github",
        "colab_type": "text"
      },
      "source": [
        "<a href=\"https://colab.research.google.com/github/ramakanth-rayanchi/CB-DL-01/blob/main/C10_Matrix_Basics.ipynb\" target=\"_parent\"><img src=\"https://colab.research.google.com/assets/colab-badge.svg\" alt=\"Open In Colab\"/></a>"
      ]
    },
    {
      "cell_type": "code",
      "execution_count": 14,
      "metadata": {
        "id": "wFxSKgXtkVMt"
      },
      "outputs": [],
      "source": [
        "import numpy as np"
      ]
    },
    {
      "cell_type": "code",
      "source": [
        "revenue = np.array([[180,200,220],[24,36,40],[12,18,20]])\n",
        "expenses = np.array([[80,90,100],[10,16,20],[8,10,10]])"
      ],
      "metadata": {
        "id": "7H585qrikbXb"
      },
      "execution_count": 15,
      "outputs": []
    },
    {
      "cell_type": "code",
      "source": [
        "profit = revenue - expenses\n",
        "profit"
      ],
      "metadata": {
        "colab": {
          "base_uri": "https://localhost:8080/"
        },
        "id": "BVbE5qOuk26l",
        "outputId": "5c4fd9d2-a756-46b8-ff44-6b20d6b325a4"
      },
      "execution_count": 16,
      "outputs": [
        {
          "output_type": "execute_result",
          "data": {
            "text/plain": [
              "array([[100, 110, 120],\n",
              "       [ 14,  20,  20],\n",
              "       [  4,   8,  10]])"
            ]
          },
          "metadata": {},
          "execution_count": 16
        }
      ]
    },
    {
      "cell_type": "code",
      "source": [
        "# Lets work on getting the sales for each year based on the price per product and quantity sold in each year\n",
        "\n",
        "price_per_unit = np.array([1000, 400, 1200])\n",
        "units = np.array([[30,40,50],[5,10,15],[2,5,7]])"
      ],
      "metadata": {
        "id": "bX9jsGNNlS7i"
      },
      "execution_count": 17,
      "outputs": []
    },
    {
      "cell_type": "code",
      "source": [
        "# If we do simple multiplication\n",
        "price_per_unit*units\n",
        "\n",
        "# Numpy uses concept of broadcast if both arrays are not the same size"
      ],
      "metadata": {
        "colab": {
          "base_uri": "https://localhost:8080/"
        },
        "id": "W7v6GuSCl2aY",
        "outputId": "fafccc6a-4816-4272-e424-7f8d968fc8a8"
      },
      "execution_count": 18,
      "outputs": [
        {
          "output_type": "execute_result",
          "data": {
            "text/plain": [
              "array([[30000, 16000, 60000],\n",
              "       [ 5000,  4000, 18000],\n",
              "       [ 2000,  2000,  8400]])"
            ]
          },
          "metadata": {},
          "execution_count": 18
        }
      ]
    },
    {
      "cell_type": "code",
      "source": [
        "# https://numpy.org/doc/stable/user/basics.broadcasting.html"
      ],
      "metadata": {
        "id": "LDcYrc1Rl-Z5"
      },
      "execution_count": 19,
      "outputs": []
    },
    {
      "cell_type": "code",
      "source": [
        "# To get sales for each year, use dot product\n",
        "np.dot(price_per_unit,units)"
      ],
      "metadata": {
        "colab": {
          "base_uri": "https://localhost:8080/"
        },
        "id": "xP0yOoArma0K",
        "outputId": "f740325e-6123-40d4-9a84-fa1a2cc83de1"
      },
      "execution_count": 20,
      "outputs": [
        {
          "output_type": "execute_result",
          "data": {
            "text/plain": [
              "array([34400, 50000, 64400])"
            ]
          },
          "metadata": {},
          "execution_count": 20
        }
      ]
    },
    {
      "cell_type": "code",
      "source": [
        "# Now Excercise\n",
        "\n",
        "# https://www.youtube.com/redirect?event=video_description&redir_token=QUFFLUhqbkUxTUJYSzJ3UTB6X2xkS2tITDM3R2hhaUE0QXxBQ3Jtc0tsTzM5T29oZXF1RFM5VUgtQmRINHZXaE1qemZ5eEMxN3F1NGhaVGNmWGphM1hNRHJ3UEJOZV9hZy1Nc0Z3VlpCdnJLSDBpSXZXNW5YYkU2LXVEMEJsZkI3ZldpOWk4QlNHWTIxbldERFVvQTdLZWFFSQ&q=https%3A%2F%2Fgithub.com%2Fcodebasics%2Fdeep-learning-keras-tf-tutorial%2Fblob%2Fmaster%2F4_matrix_math%2F4_matrix_math.md&v=Wibxjrxf5ko"
      ],
      "metadata": {
        "id": "7xoHBGlemjmS"
      },
      "execution_count": 21,
      "outputs": []
    },
    {
      "cell_type": "markdown",
      "source": [
        "Exercise: Matrix Math\n",
        "Below is some indian companies revenues in US dollars. Using numpy can you convert this into Indian rupees? 1 USD = 75 INR\n"
      ],
      "metadata": {
        "id": "tmocvLbB0Fys"
      }
    },
    {
      "cell_type": "code",
      "source": [
        "company_in_dollar = np.array([[200,220,250],[68,79,105],[110,140,180],[80,85,90]])\n",
        "company_in_rupees = company_in_dollar*75\n",
        "company_in_rupees"
      ],
      "metadata": {
        "colab": {
          "base_uri": "https://localhost:8080/"
        },
        "id": "jdozxbTq0Oad",
        "outputId": "22f64752-d178-492a-a850-d4f27dde2039"
      },
      "execution_count": 22,
      "outputs": [
        {
          "output_type": "execute_result",
          "data": {
            "text/plain": [
              "array([[15000, 16500, 18750],\n",
              "       [ 5100,  5925,  7875],\n",
              "       [ 8250, 10500, 13500],\n",
              "       [ 6000,  6375,  6750]])"
            ]
          },
          "metadata": {},
          "execution_count": 22
        }
      ]
    },
    {
      "cell_type": "markdown",
      "source": [
        "Divine flowers is a flower shop that sells different type of flowers. Below is the table showing how many flowers of each type they sold in different months. Also given are the prices of one flower each. Using this find out their total sales in every month."
      ],
      "metadata": {
        "id": "-NGPOC--06_T"
      }
    },
    {
      "cell_type": "code",
      "source": [
        "prices_per_unit = np.array([[20],[30],[15]])\n",
        "prices_per_unit.shape"
      ],
      "metadata": {
        "colab": {
          "base_uri": "https://localhost:8080/"
        },
        "id": "V_FxxzWI08aD",
        "outputId": "12fafa10-2ded-492e-ae8f-8f65296d50f2"
      },
      "execution_count": 27,
      "outputs": [
        {
          "output_type": "execute_result",
          "data": {
            "text/plain": [
              "(3, 1)"
            ]
          },
          "metadata": {},
          "execution_count": 27
        }
      ]
    },
    {
      "cell_type": "code",
      "source": [
        "units_sold =np.array([[50,60,25],[10,13,5],[40,70,52]])\n",
        "units_sold.shape"
      ],
      "metadata": {
        "colab": {
          "base_uri": "https://localhost:8080/"
        },
        "id": "nnHW2DhF1Qhk",
        "outputId": "623d3246-b8ac-4453-b024-5d333839dd7e"
      },
      "execution_count": 24,
      "outputs": [
        {
          "output_type": "execute_result",
          "data": {
            "text/plain": [
              "(3, 3)"
            ]
          },
          "metadata": {},
          "execution_count": 24
        }
      ]
    },
    {
      "cell_type": "code",
      "source": [
        "np.dot(prices_per_unit, units_sold)"
      ],
      "metadata": {
        "colab": {
          "base_uri": "https://localhost:8080/",
          "height": 201
        },
        "id": "jy49EKUU1kDh",
        "outputId": "3d7757d2-3e13-4e39-f80f-b0e663a9c0c1"
      },
      "execution_count": 28,
      "outputs": [
        {
          "output_type": "error",
          "ename": "ValueError",
          "evalue": "ignored",
          "traceback": [
            "\u001b[0;31m---------------------------------------------------------------------------\u001b[0m",
            "\u001b[0;31mValueError\u001b[0m                                Traceback (most recent call last)",
            "\u001b[0;32m<ipython-input-28-c24ce2f7b20e>\u001b[0m in \u001b[0;36m<cell line: 1>\u001b[0;34m()\u001b[0m\n\u001b[0;32m----> 1\u001b[0;31m \u001b[0mnp\u001b[0m\u001b[0;34m.\u001b[0m\u001b[0mdot\u001b[0m\u001b[0;34m(\u001b[0m\u001b[0mprices_per_unit\u001b[0m\u001b[0;34m,\u001b[0m \u001b[0munits_sold\u001b[0m\u001b[0;34m)\u001b[0m\u001b[0;34m\u001b[0m\u001b[0;34m\u001b[0m\u001b[0m\n\u001b[0m",
            "\u001b[0;32m/usr/local/lib/python3.10/dist-packages/numpy/core/overrides.py\u001b[0m in \u001b[0;36mdot\u001b[0;34m(*args, **kwargs)\u001b[0m\n",
            "\u001b[0;31mValueError\u001b[0m: shapes (3,1) and (3,3) not aligned: 1 (dim 1) != 3 (dim 0)"
          ]
        }
      ]
    },
    {
      "cell_type": "code",
      "source": [
        "# the above is wrong answer. Lets reshape the price_per_unit array\n",
        "prices_per_unit_reshaped = np.reshape(prices_per_unit, (1,3))\n",
        "prices_per_unit_reshaped\n"
      ],
      "metadata": {
        "colab": {
          "base_uri": "https://localhost:8080/"
        },
        "id": "T3ef0n_s15jB",
        "outputId": "edf07817-906a-4614-e5eb-b1a07f3e5fbb"
      },
      "execution_count": 30,
      "outputs": [
        {
          "output_type": "execute_result",
          "data": {
            "text/plain": [
              "array([[20, 30, 15]])"
            ]
          },
          "metadata": {},
          "execution_count": 30
        }
      ]
    },
    {
      "cell_type": "code",
      "source": [
        "# lets try the dot product again\n",
        "np.dot(prices_per_unit_reshaped, units_sold)"
      ],
      "metadata": {
        "colab": {
          "base_uri": "https://localhost:8080/"
        },
        "id": "Ri0xKYZ32rrX",
        "outputId": "38563ecd-386b-484e-e87e-62b360d0e61c"
      },
      "execution_count": 31,
      "outputs": [
        {
          "output_type": "execute_result",
          "data": {
            "text/plain": [
              "array([[1900, 2640, 1430]])"
            ]
          },
          "metadata": {},
          "execution_count": 31
        }
      ]
    },
    {
      "cell_type": "markdown",
      "source": [
        "https://www.mathopolis.com/questions/q.html?id=714&t=mif&qs=714_715_716_717_2394_2395_2397_2396_8473_8474_8475_8476&site=1&ref=2f616c67656272612f6d61747269782d6d756c7469706c79696e672e68746d6c&title=486f7720746f204d756c7469706c79204d61747269636573"
      ],
      "metadata": {
        "id": "Q95O4p2D3qif"
      }
    },
    {
      "cell_type": "code",
      "source": [],
      "metadata": {
        "id": "lrhectj93tE-"
      },
      "execution_count": null,
      "outputs": []
    }
  ]
}