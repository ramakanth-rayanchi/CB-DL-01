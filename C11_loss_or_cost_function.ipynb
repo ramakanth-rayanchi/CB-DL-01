{
  "nbformat": 4,
  "nbformat_minor": 0,
  "metadata": {
    "colab": {
      "provenance": [],
      "authorship_tag": "ABX9TyN/kuSlDspnlZM7+97fU70u",
      "include_colab_link": true
    },
    "kernelspec": {
      "name": "python3",
      "display_name": "Python 3"
    },
    "language_info": {
      "name": "python"
    }
  },
  "cells": [
    {
      "cell_type": "markdown",
      "metadata": {
        "id": "view-in-github",
        "colab_type": "text"
      },
      "source": [
        "<a href=\"https://colab.research.google.com/github/ramakanth-rayanchi/CB-DL-01/blob/main/C11_loss_or_cost_function.ipynb\" target=\"_parent\"><img src=\"https://colab.research.google.com/assets/colab-badge.svg\" alt=\"Open In Colab\"/></a>"
      ]
    },
    {
      "cell_type": "code",
      "execution_count": 1,
      "metadata": {
        "id": "1VDQ-AuD5RHi"
      },
      "outputs": [],
      "source": [
        "import numpy as np\n",
        "y_predicted = np.array([1,1,0,0,1])\n",
        "y_true = np.array([0.3,0.7,1,0,0.5])\n",
        "\n"
      ]
    },
    {
      "cell_type": "markdown",
      "source": [
        "### Implement Mean Absolute Error"
      ],
      "metadata": {
        "id": "2Qb3gZqsHl6O"
      }
    },
    {
      "cell_type": "code",
      "source": [
        "# Without numpy functions\n",
        "def mae(y_predicted, y_true):\n",
        "  total_error = 0\n",
        "  for yp, yt in zip(y_predicted, y_true):\n",
        "    print(yp,yt)\n",
        "    total_error = total_error + abs(yp-yt)\n",
        "  print(\"total error=\", total_error)\n",
        "  mae = total_error/len(y_true)\n",
        "  print(\"mae=\",mae)\n",
        "  return mae"
      ],
      "metadata": {
        "id": "bwqDtmV3Hnbr"
      },
      "execution_count": 2,
      "outputs": []
    },
    {
      "cell_type": "code",
      "source": [
        "mae(y_predicted, y_true)"
      ],
      "metadata": {
        "colab": {
          "base_uri": "https://localhost:8080/"
        },
        "id": "bwl8WDQ_ICHi",
        "outputId": "a6fcbdd3-b12b-40ba-d488-a338900fbe80"
      },
      "execution_count": 3,
      "outputs": [
        {
          "output_type": "stream",
          "name": "stdout",
          "text": [
            "1 0.3\n",
            "1 0.7\n",
            "0 1.0\n",
            "0 0.0\n",
            "1 0.5\n",
            "total error= 2.5\n",
            "mae= 0.5\n"
          ]
        },
        {
          "output_type": "execute_result",
          "data": {
            "text/plain": [
              "0.5"
            ]
          },
          "metadata": {},
          "execution_count": 3
        }
      ]
    },
    {
      "cell_type": "markdown",
      "source": [
        "Implement same thing using numpy in much easier way"
      ],
      "metadata": {
        "id": "kGD8Mus0JKvE"
      }
    },
    {
      "cell_type": "code",
      "source": [
        "np.abs(y_predicted-y_true)"
      ],
      "metadata": {
        "colab": {
          "base_uri": "https://localhost:8080/"
        },
        "id": "ksXszY1IIK6i",
        "outputId": "ead9655d-1f8a-4e81-8af9-35086fe5814b"
      },
      "execution_count": 4,
      "outputs": [
        {
          "output_type": "execute_result",
          "data": {
            "text/plain": [
              "array([0.7, 0.3, 1. , 0. , 0.5])"
            ]
          },
          "metadata": {},
          "execution_count": 4
        }
      ]
    },
    {
      "cell_type": "code",
      "source": [
        "np.sum(np.abs(y_predicted - y_true))"
      ],
      "metadata": {
        "colab": {
          "base_uri": "https://localhost:8080/"
        },
        "id": "pVLIfk8zJV42",
        "outputId": "346038ce-e9af-4ea1-b680-2f7141fd7b5d"
      },
      "execution_count": 5,
      "outputs": [
        {
          "output_type": "execute_result",
          "data": {
            "text/plain": [
              "2.5"
            ]
          },
          "metadata": {},
          "execution_count": 5
        }
      ]
    },
    {
      "cell_type": "code",
      "source": [
        "np.mean(np.abs(y_predicted - y_true))"
      ],
      "metadata": {
        "colab": {
          "base_uri": "https://localhost:8080/"
        },
        "id": "qBMJto3fJdXA",
        "outputId": "2e642e48-ca89-4d1a-8288-24af160a8a6f"
      },
      "execution_count": 6,
      "outputs": [
        {
          "output_type": "execute_result",
          "data": {
            "text/plain": [
              "0.5"
            ]
          },
          "metadata": {},
          "execution_count": 6
        }
      ]
    },
    {
      "cell_type": "code",
      "source": [
        "def mae_np(y_predicted, y_true):\n",
        "  return np.mean(np.abs(y_predicted - y_true))"
      ],
      "metadata": {
        "id": "idc7mUzxJlQu"
      },
      "execution_count": 7,
      "outputs": []
    },
    {
      "cell_type": "code",
      "source": [
        "mae_np(y_predicted, y_true)"
      ],
      "metadata": {
        "colab": {
          "base_uri": "https://localhost:8080/"
        },
        "id": "PllBeC0EJuAn",
        "outputId": "6c81884d-d440-43ff-809f-d2d7ad5a911a"
      },
      "execution_count": 8,
      "outputs": [
        {
          "output_type": "execute_result",
          "data": {
            "text/plain": [
              "0.5"
            ]
          },
          "metadata": {},
          "execution_count": 8
        }
      ]
    },
    {
      "cell_type": "markdown",
      "source": [
        "### Implement Log Loss or Binary Cross Entropy"
      ],
      "metadata": {
        "id": "PrcFoSpSKC21"
      }
    },
    {
      "cell_type": "code",
      "source": [
        "np.log([0])"
      ],
      "metadata": {
        "colab": {
          "base_uri": "https://localhost:8080/"
        },
        "id": "h6GgbrLJJxuu",
        "outputId": "8cafc5b1-2196-4f75-f0c5-52a89b63345e"
      },
      "execution_count": 9,
      "outputs": [
        {
          "output_type": "stream",
          "name": "stderr",
          "text": [
            "<ipython-input-9-faee82fd9f21>:1: RuntimeWarning: divide by zero encountered in log\n",
            "  np.log([0])\n"
          ]
        },
        {
          "output_type": "execute_result",
          "data": {
            "text/plain": [
              "array([-inf])"
            ]
          },
          "metadata": {},
          "execution_count": 9
        }
      ]
    },
    {
      "cell_type": "code",
      "source": [
        "epsilon = 1e-15"
      ],
      "metadata": {
        "id": "wdIQhO9IKS0w"
      },
      "execution_count": 10,
      "outputs": []
    },
    {
      "cell_type": "code",
      "source": [
        "np.log([epsilon])"
      ],
      "metadata": {
        "colab": {
          "base_uri": "https://localhost:8080/"
        },
        "id": "4IhrcamyKWla",
        "outputId": "69886664-4d7c-4144-8f83-f513d482ea58"
      },
      "execution_count": 11,
      "outputs": [
        {
          "output_type": "execute_result",
          "data": {
            "text/plain": [
              "array([-34.53877639])"
            ]
          },
          "metadata": {},
          "execution_count": 11
        }
      ]
    },
    {
      "cell_type": "code",
      "source": [
        "y_predicted"
      ],
      "metadata": {
        "colab": {
          "base_uri": "https://localhost:8080/"
        },
        "id": "xfDYUNLLKaHZ",
        "outputId": "e70039ec-4af0-4d8c-8d2a-89b4a7c4857e"
      },
      "execution_count": 12,
      "outputs": [
        {
          "output_type": "execute_result",
          "data": {
            "text/plain": [
              "array([1, 1, 0, 0, 1])"
            ]
          },
          "metadata": {},
          "execution_count": 12
        }
      ]
    },
    {
      "cell_type": "code",
      "source": [
        "# Using list comprehension - create a list - replacing 0 with epsilon\n",
        "y_predicted_new = [max(epsilon,i) for i in y_predicted]\n",
        "y_predicted_new"
      ],
      "metadata": {
        "colab": {
          "base_uri": "https://localhost:8080/"
        },
        "id": "Nwcz4ojbKczC",
        "outputId": "ec9ba023-2948-4be3-d849-a9d11098275a"
      },
      "execution_count": 13,
      "outputs": [
        {
          "output_type": "execute_result",
          "data": {
            "text/plain": [
              "[1, 1, 1e-15, 1e-15, 1]"
            ]
          },
          "metadata": {},
          "execution_count": 13
        }
      ]
    },
    {
      "cell_type": "code",
      "source": [
        "# Using list comprehension - create a list - replacing 1 with 1-epsilon\n",
        "y_predicted_new = [min(1-epsilon,i) for i in y_predicted_new]\n",
        "y_predicted_new"
      ],
      "metadata": {
        "colab": {
          "base_uri": "https://localhost:8080/"
        },
        "id": "FHeEMfxEKxEO",
        "outputId": "aef12be2-7274-41d5-f9f1-df6f91d2769e"
      },
      "execution_count": 14,
      "outputs": [
        {
          "output_type": "execute_result",
          "data": {
            "text/plain": [
              "[0.999999999999999, 0.999999999999999, 1e-15, 1e-15, 0.999999999999999]"
            ]
          },
          "metadata": {},
          "execution_count": 14
        }
      ]
    },
    {
      "cell_type": "code",
      "source": [
        "# Convert list to numpy array\n",
        "y_predicted_new = np.array(y_predicted_new)\n",
        "y_predicted_new"
      ],
      "metadata": {
        "colab": {
          "base_uri": "https://localhost:8080/"
        },
        "id": "oOZ4yxiuLDIM",
        "outputId": "f12c961e-ef7a-4406-cb4d-981cd35d1c37"
      },
      "execution_count": 15,
      "outputs": [
        {
          "output_type": "execute_result",
          "data": {
            "text/plain": [
              "array([1.e+00, 1.e+00, 1.e-15, 1.e-15, 1.e+00])"
            ]
          },
          "metadata": {},
          "execution_count": 15
        }
      ]
    },
    {
      "cell_type": "code",
      "source": [
        "# Now applying log will not have a issue\n",
        "np.log(y_predicted_new)"
      ],
      "metadata": {
        "colab": {
          "base_uri": "https://localhost:8080/"
        },
        "id": "n7urrQ2CLPTO",
        "outputId": "96f8832d-a9fc-4109-e179-fe02b7171834"
      },
      "execution_count": 16,
      "outputs": [
        {
          "output_type": "execute_result",
          "data": {
            "text/plain": [
              "array([-9.99200722e-16, -9.99200722e-16, -3.45387764e+01, -3.45387764e+01,\n",
              "       -9.99200722e-16])"
            ]
          },
          "metadata": {},
          "execution_count": 16
        }
      ]
    },
    {
      "cell_type": "code",
      "source": [
        "# Create log loss function\n",
        "-np.mean(y_true * np.log(y_predicted_new) +  (1-y_true)*np.log(1-y_predicted_new))"
      ],
      "metadata": {
        "colab": {
          "base_uri": "https://localhost:8080/"
        },
        "id": "yYOJgeDVLdQv",
        "outputId": "d2d92293-67d2-473f-a179-4650c111d0b1"
      },
      "execution_count": 17,
      "outputs": [
        {
          "output_type": "execute_result",
          "data": {
            "text/plain": [
              "17.2696280766844"
            ]
          },
          "metadata": {},
          "execution_count": 17
        }
      ]
    },
    {
      "cell_type": "code",
      "source": [
        "# Combine all the above steps in one single function\n",
        "def log_loss(y_predicted, y_true):\n",
        "  epsilon = 1e-15\n",
        "  y_predicted_new = [ max(epsilon, i) for i in y_predicted]\n",
        "  y_predicted_new = [ min(1-epsilon, i) for i in y_predicted_new]\n",
        "  y_predicted_new = np.array(y_predicted_new)\n",
        "  return -np.mean(y_true * np.log(y_predicted_new) + (1-y_true) * np.log(1-y_predicted_new))\n",
        "\n",
        "log_loss(y_predicted, y_true)"
      ],
      "metadata": {
        "colab": {
          "base_uri": "https://localhost:8080/"
        },
        "id": "YjvLbrisL7tK",
        "outputId": "2a4457dd-b5f7-4454-9c6d-949bc6089a4a"
      },
      "execution_count": 18,
      "outputs": [
        {
          "output_type": "execute_result",
          "data": {
            "text/plain": [
              "17.2696280766844"
            ]
          },
          "metadata": {},
          "execution_count": 18
        }
      ]
    },
    {
      "cell_type": "markdown",
      "source": [
        "### Exercise\n",
        "Implement mean squared error (or MSE) in two ways,\n",
        "\n",
        "Without using numpy (i.e. using plain python)\n",
        "\n",
        "With the use of numpy"
      ],
      "metadata": {
        "id": "UeKEftiyNv4W"
      }
    },
    {
      "cell_type": "code",
      "source": [
        "# Without numpy\n",
        "def mse(y_predicted, y_true):\n",
        "  total_error = 0\n",
        "  for yp, yt in zip(y_predicted, y_true):\n",
        "    print(yp, yt)\n",
        "    total_error += (yp-yt)**2\n",
        "  print(total_error)\n",
        "  mse = total_error/len(y_true)\n",
        "  return mse"
      ],
      "metadata": {
        "id": "3F4ZBbeXM7Uz"
      },
      "execution_count": 19,
      "outputs": []
    },
    {
      "cell_type": "code",
      "source": [
        "mse(y_predicted, y_true)"
      ],
      "metadata": {
        "colab": {
          "base_uri": "https://localhost:8080/"
        },
        "id": "owwTyeAROf5n",
        "outputId": "b94cc704-0930-41c7-9493-06880061fbbf"
      },
      "execution_count": 20,
      "outputs": [
        {
          "output_type": "stream",
          "name": "stdout",
          "text": [
            "1 0.3\n",
            "1 0.7\n",
            "0 1.0\n",
            "0 0.0\n",
            "1 0.5\n",
            "1.83\n"
          ]
        },
        {
          "output_type": "execute_result",
          "data": {
            "text/plain": [
              "0.366"
            ]
          },
          "metadata": {},
          "execution_count": 20
        }
      ]
    },
    {
      "cell_type": "code",
      "source": [
        "# Using numpy\n",
        "def mse(y_predicted, y_true):\n",
        "  return np.mean(np.square(y_predicted-y_true))\n",
        "\n",
        "mse(y_predicted, y_true)"
      ],
      "metadata": {
        "colab": {
          "base_uri": "https://localhost:8080/"
        },
        "id": "zSCYzx8ROjAZ",
        "outputId": "fecd0a43-3b66-442d-9f3d-d5824e6cf897"
      },
      "execution_count": 21,
      "outputs": [
        {
          "output_type": "execute_result",
          "data": {
            "text/plain": [
              "0.366"
            ]
          },
          "metadata": {},
          "execution_count": 21
        }
      ]
    },
    {
      "cell_type": "code",
      "source": [],
      "metadata": {
        "id": "QD1rDodcRhdm"
      },
      "execution_count": 21,
      "outputs": []
    }
  ]
}