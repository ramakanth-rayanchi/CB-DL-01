{
  "nbformat": 4,
  "nbformat_minor": 0,
  "metadata": {
    "colab": {
      "provenance": [],
      "authorship_tag": "ABX9TyN/kuSlDspnlZM7+97fU70u",
      "include_colab_link": true
    },
    "kernelspec": {
      "name": "python3",
      "display_name": "Python 3"
    },
    "language_info": {
      "name": "python"
    }
  },
  "cells": [
    {
      "cell_type": "markdown",
      "metadata": {
        "id": "view-in-github",
        "colab_type": "text"
      },
      "source": [
        "<a href=\"https://colab.research.google.com/github/ramakanth-rayanchi/CB-DL-01/blob/main/C11_loss_or_cost_function.ipynb\" target=\"_parent\"><img src=\"https://colab.research.google.com/assets/colab-badge.svg\" alt=\"Open In Colab\"/></a>"
      ]
    },
    {
      "cell_type": "code",
      "execution_count": 2,
      "metadata": {
        "id": "1VDQ-AuD5RHi"
      },
      "outputs": [],
      "source": [
        "import numpy as np\n",
        "y_predicted = np.array([1,1,0,0,1])\n",
        "y_true = np.array([0.3,0.7,1,0,0.5])\n",
        "\n"
      ]
    },
    {
      "cell_type": "markdown",
      "source": [
        "### Implement Mean Absolute Error"
      ],
      "metadata": {
        "id": "2Qb3gZqsHl6O"
      }
    },
    {
      "cell_type": "code",
      "source": [
        "# Without numpy functions\n",
        "def mae(y_predicted, y_true):\n",
        "  total_error = 0\n",
        "  for yp, yt in zip(y_predicted, y_true):\n",
        "    print(yp,yt)\n",
        "    total_error = total_error + abs(yp-yt)\n",
        "  print(\"total error=\", total_error)\n",
        "  mae = total_error/len(y_true)\n",
        "  print(\"mae=\",mae)\n",
        "  return mae"
      ],
      "metadata": {
        "id": "bwqDtmV3Hnbr"
      },
      "execution_count": 12,
      "outputs": []
    },
    {
      "cell_type": "code",
      "source": [
        "mae(y_predicted, y_true)"
      ],
      "metadata": {
        "colab": {
          "base_uri": "https://localhost:8080/"
        },
        "id": "bwl8WDQ_ICHi",
        "outputId": "be8e31c0-9ab4-45ed-8f14-35c4465fdfea"
      },
      "execution_count": 13,
      "outputs": [
        {
          "output_type": "stream",
          "name": "stdout",
          "text": [
            "1 0.3\n",
            "1 0.7\n",
            "0 1.0\n",
            "0 0.0\n",
            "1 0.5\n",
            "total= 2.5\n",
            "mae= 0.5\n"
          ]
        },
        {
          "output_type": "execute_result",
          "data": {
            "text/plain": [
              "0.5"
            ]
          },
          "metadata": {},
          "execution_count": 13
        }
      ]
    },
    {
      "cell_type": "markdown",
      "source": [
        "Implement same thing using numpy in much easier way"
      ],
      "metadata": {
        "id": "kGD8Mus0JKvE"
      }
    },
    {
      "cell_type": "code",
      "source": [
        "np.abs(y_predicted-y_true)"
      ],
      "metadata": {
        "colab": {
          "base_uri": "https://localhost:8080/"
        },
        "id": "ksXszY1IIK6i",
        "outputId": "c575bb21-9ca1-4347-890a-66c209731509"
      },
      "execution_count": 14,
      "outputs": [
        {
          "output_type": "execute_result",
          "data": {
            "text/plain": [
              "array([0.7, 0.3, 1. , 0. , 0.5])"
            ]
          },
          "metadata": {},
          "execution_count": 14
        }
      ]
    },
    {
      "cell_type": "code",
      "source": [
        "np.sum(np.abs(y_predicted - y_true))"
      ],
      "metadata": {
        "colab": {
          "base_uri": "https://localhost:8080/"
        },
        "id": "pVLIfk8zJV42",
        "outputId": "884319e3-fe43-4d4c-9e6f-024a74bfe5ee"
      },
      "execution_count": 15,
      "outputs": [
        {
          "output_type": "execute_result",
          "data": {
            "text/plain": [
              "2.5"
            ]
          },
          "metadata": {},
          "execution_count": 15
        }
      ]
    },
    {
      "cell_type": "code",
      "source": [
        "np.mean(np.abs(y_predicted - y_true))"
      ],
      "metadata": {
        "colab": {
          "base_uri": "https://localhost:8080/"
        },
        "id": "qBMJto3fJdXA",
        "outputId": "1a2d2771-0f40-4148-d353-ba5f3f9cd990"
      },
      "execution_count": 16,
      "outputs": [
        {
          "output_type": "execute_result",
          "data": {
            "text/plain": [
              "0.5"
            ]
          },
          "metadata": {},
          "execution_count": 16
        }
      ]
    },
    {
      "cell_type": "code",
      "source": [
        "def mae_np(y_predicted, y_true):\n",
        "  return np.mean(np.abs(y_predicted - y_true))"
      ],
      "metadata": {
        "id": "idc7mUzxJlQu"
      },
      "execution_count": 17,
      "outputs": []
    },
    {
      "cell_type": "code",
      "source": [
        "mae_np(y_predicted, y_true)"
      ],
      "metadata": {
        "colab": {
          "base_uri": "https://localhost:8080/"
        },
        "id": "PllBeC0EJuAn",
        "outputId": "09053835-6cd7-4a8f-fe8f-2750bcab7cd3"
      },
      "execution_count": 18,
      "outputs": [
        {
          "output_type": "execute_result",
          "data": {
            "text/plain": [
              "0.5"
            ]
          },
          "metadata": {},
          "execution_count": 18
        }
      ]
    },
    {
      "cell_type": "markdown",
      "source": [
        "### Implement Log Loss or Binary Cross Entropy"
      ],
      "metadata": {
        "id": "PrcFoSpSKC21"
      }
    },
    {
      "cell_type": "code",
      "source": [
        "np.log([0])"
      ],
      "metadata": {
        "colab": {
          "base_uri": "https://localhost:8080/"
        },
        "id": "h6GgbrLJJxuu",
        "outputId": "cfcae30f-0a23-4f17-cb8e-eb6d1d37c546"
      },
      "execution_count": 19,
      "outputs": [
        {
          "output_type": "stream",
          "name": "stderr",
          "text": [
            "<ipython-input-19-faee82fd9f21>:1: RuntimeWarning: divide by zero encountered in log\n",
            "  np.log([0])\n"
          ]
        },
        {
          "output_type": "execute_result",
          "data": {
            "text/plain": [
              "array([-inf])"
            ]
          },
          "metadata": {},
          "execution_count": 19
        }
      ]
    },
    {
      "cell_type": "code",
      "source": [
        "epsilon = 1e-15"
      ],
      "metadata": {
        "id": "wdIQhO9IKS0w"
      },
      "execution_count": 20,
      "outputs": []
    },
    {
      "cell_type": "code",
      "source": [
        "np.log([epsilon])"
      ],
      "metadata": {
        "colab": {
          "base_uri": "https://localhost:8080/"
        },
        "id": "4IhrcamyKWla",
        "outputId": "8e070498-688a-4aa4-ce20-7bf35d0528eb"
      },
      "execution_count": 21,
      "outputs": [
        {
          "output_type": "execute_result",
          "data": {
            "text/plain": [
              "array([-34.53877639])"
            ]
          },
          "metadata": {},
          "execution_count": 21
        }
      ]
    },
    {
      "cell_type": "code",
      "source": [
        "y_predicted"
      ],
      "metadata": {
        "colab": {
          "base_uri": "https://localhost:8080/"
        },
        "id": "xfDYUNLLKaHZ",
        "outputId": "97c4caff-2980-4182-dfb4-3b0a3dd895c5"
      },
      "execution_count": 22,
      "outputs": [
        {
          "output_type": "execute_result",
          "data": {
            "text/plain": [
              "array([1, 1, 0, 0, 1])"
            ]
          },
          "metadata": {},
          "execution_count": 22
        }
      ]
    },
    {
      "cell_type": "code",
      "source": [
        "# Using list comprehension - create a list - replacing 0 with epsilon\n",
        "y_predicted_new = [max(epsilon,i) for i in y_predicted]\n",
        "y_predicted_new"
      ],
      "metadata": {
        "colab": {
          "base_uri": "https://localhost:8080/"
        },
        "id": "Nwcz4ojbKczC",
        "outputId": "4a403c72-ff4c-40bf-cc9e-4e33d713c330"
      },
      "execution_count": 23,
      "outputs": [
        {
          "output_type": "execute_result",
          "data": {
            "text/plain": [
              "[1, 1, 1e-15, 1e-15, 1]"
            ]
          },
          "metadata": {},
          "execution_count": 23
        }
      ]
    },
    {
      "cell_type": "code",
      "source": [
        "# Using list comprehension - create a list - replacing 1 with 1-epsilon\n",
        "y_predicted_new = [min(1-epsilon,i) for i in y_predicted_new]\n",
        "y_predicted_new"
      ],
      "metadata": {
        "colab": {
          "base_uri": "https://localhost:8080/"
        },
        "id": "FHeEMfxEKxEO",
        "outputId": "a1cfaca0-71f8-48b2-8dae-2743e8c9a3e6"
      },
      "execution_count": 24,
      "outputs": [
        {
          "output_type": "execute_result",
          "data": {
            "text/plain": [
              "[0.999999999999999, 0.999999999999999, 1e-15, 1e-15, 0.999999999999999]"
            ]
          },
          "metadata": {},
          "execution_count": 24
        }
      ]
    },
    {
      "cell_type": "code",
      "source": [
        "# Convert list to numpy array\n",
        "y_predicted_new = np.array(y_predicted_new)\n",
        "y_predicted_new"
      ],
      "metadata": {
        "colab": {
          "base_uri": "https://localhost:8080/"
        },
        "id": "oOZ4yxiuLDIM",
        "outputId": "465ac9a0-8dce-4338-c0b5-cee8b16a55d5"
      },
      "execution_count": 25,
      "outputs": [
        {
          "output_type": "execute_result",
          "data": {
            "text/plain": [
              "array([1.e+00, 1.e+00, 1.e-15, 1.e-15, 1.e+00])"
            ]
          },
          "metadata": {},
          "execution_count": 25
        }
      ]
    },
    {
      "cell_type": "code",
      "source": [
        "# Now applying log will not have a issue\n",
        "np.log(y_predicted_new)"
      ],
      "metadata": {
        "colab": {
          "base_uri": "https://localhost:8080/"
        },
        "id": "n7urrQ2CLPTO",
        "outputId": "3d7811ff-044b-40bd-84b9-d609da07fa32"
      },
      "execution_count": 26,
      "outputs": [
        {
          "output_type": "execute_result",
          "data": {
            "text/plain": [
              "array([-9.99200722e-16, -9.99200722e-16, -3.45387764e+01, -3.45387764e+01,\n",
              "       -9.99200722e-16])"
            ]
          },
          "metadata": {},
          "execution_count": 26
        }
      ]
    },
    {
      "cell_type": "code",
      "source": [
        "# Create log loss function\n",
        "-np.mean(y_true * np.log(y_predicted_new) +  (1-y_true)*np.log(1-y_predicted_new))"
      ],
      "metadata": {
        "colab": {
          "base_uri": "https://localhost:8080/"
        },
        "id": "yYOJgeDVLdQv",
        "outputId": "e599c2e4-a953-4579-87c5-33a43222a746"
      },
      "execution_count": 27,
      "outputs": [
        {
          "output_type": "execute_result",
          "data": {
            "text/plain": [
              "17.2696280766844"
            ]
          },
          "metadata": {},
          "execution_count": 27
        }
      ]
    },
    {
      "cell_type": "code",
      "source": [
        "# Combine all the above steps in one single function\n",
        "def log_loss(y_predicted, y_true):\n",
        "  epsilon = 1e-15\n",
        "  y_predicted_new = [ max(epsilon, i) for i in y_predicted]\n",
        "  y_predicted_new = [ min(1-epsilon, i) for i in y_predicted_new]\n",
        "  y_predicted_new = np.array(y_predicted_new)\n",
        "  return -np.mean(y_true * np.log(y_predicted_new) + (1-y_true) * np.log(1-y_predicted_new))\n",
        "\n",
        "log_loss(y_predicted, y_true)"
      ],
      "metadata": {
        "colab": {
          "base_uri": "https://localhost:8080/"
        },
        "id": "YjvLbrisL7tK",
        "outputId": "091e3635-e561-42c2-beb3-a3cbb87975de"
      },
      "execution_count": 30,
      "outputs": [
        {
          "output_type": "execute_result",
          "data": {
            "text/plain": [
              "17.2696280766844"
            ]
          },
          "metadata": {},
          "execution_count": 30
        }
      ]
    },
    {
      "cell_type": "markdown",
      "source": [
        "### Exercise\n",
        "Implement mean squared error (or MSE) in two ways,\n",
        "\n",
        "Without using numpy (i.e. using plain python)\n",
        "\n",
        "With the use of numpy"
      ],
      "metadata": {
        "id": "UeKEftiyNv4W"
      }
    },
    {
      "cell_type": "code",
      "source": [
        "# Without numpy\n",
        "def mse(y_predicted, y_true):\n",
        "  total_error = 0\n",
        "  for yp, yt in zip(y_predicted, y_true):\n",
        "    print(yp, yt)\n",
        "    total_error += (yp-yt)**2\n",
        "  print(total_error)\n",
        "  mse = total_error/len(y_true)\n",
        "  return mse"
      ],
      "metadata": {
        "id": "3F4ZBbeXM7Uz"
      },
      "execution_count": 33,
      "outputs": []
    },
    {
      "cell_type": "code",
      "source": [
        "mse(y_predicted, y_true)"
      ],
      "metadata": {
        "colab": {
          "base_uri": "https://localhost:8080/"
        },
        "id": "owwTyeAROf5n",
        "outputId": "2830073f-c7cc-4ee7-fb3e-106a452731a4"
      },
      "execution_count": 34,
      "outputs": [
        {
          "output_type": "stream",
          "name": "stdout",
          "text": [
            "1 0.3\n",
            "1 0.7\n",
            "0 1.0\n",
            "0 0.0\n",
            "1 0.5\n",
            "1.83\n"
          ]
        },
        {
          "output_type": "execute_result",
          "data": {
            "text/plain": [
              "0.366"
            ]
          },
          "metadata": {},
          "execution_count": 34
        }
      ]
    },
    {
      "cell_type": "code",
      "source": [
        "# Using numpy\n",
        "def mse(y_predicted, y_true):\n",
        "  return np.mean(np.square(y_predicted-y_true))\n",
        "\n",
        "mse(y_predicted, y_true)"
      ],
      "metadata": {
        "colab": {
          "base_uri": "https://localhost:8080/"
        },
        "id": "zSCYzx8ROjAZ",
        "outputId": "8ab1f77e-3be7-45b6-caaa-6e7df8f9fab2"
      },
      "execution_count": 35,
      "outputs": [
        {
          "output_type": "execute_result",
          "data": {
            "text/plain": [
              "0.366"
            ]
          },
          "metadata": {},
          "execution_count": 35
        }
      ]
    },
    {
      "cell_type": "code",
      "source": [],
      "metadata": {
        "id": "QD1rDodcRhdm"
      },
      "execution_count": null,
      "outputs": []
    }
  ]
}